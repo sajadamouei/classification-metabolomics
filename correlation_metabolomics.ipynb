{
  "nbformat": 4,
  "nbformat_minor": 0,
  "metadata": {
    "colab": {
      "provenance": [],
      "authorship_tag": "ABX9TyMQiXAQG40zyyP6Vk2a09DV",
      "include_colab_link": true
    },
    "kernelspec": {
      "name": "python3",
      "display_name": "Python 3"
    },
    "language_info": {
      "name": "python"
    }
  },
  "cells": [
    {
      "cell_type": "markdown",
      "metadata": {
        "id": "view-in-github",
        "colab_type": "text"
      },
      "source": [
        "<a href=\"https://colab.research.google.com/github/sajadamouei/classification-metabolomics/blob/main/correlation_metabolomics.ipynb\" target=\"_parent\"><img src=\"https://colab.research.google.com/assets/colab-badge.svg\" alt=\"Open In Colab\"/></a>"
      ]
    },
    {
      "cell_type": "code",
      "execution_count": null,
      "metadata": {
        "colab": {
          "base_uri": "https://localhost:8080/"
        },
        "id": "6xFSHgHSmUv-",
        "outputId": "33157c6e-203a-457c-8d42-0f8dfab87a85"
      },
      "outputs": [
        {
          "output_type": "stream",
          "name": "stdout",
          "text": [
            "Sheet Name: M1 Compounds ESI+\n",
            "Number of Samples: 81\n",
            "Number of Metabolites: 1922\n",
            "Summary of 'classes' column:\n",
            "class\n",
            "1    54\n",
            "0    27\n",
            "Name: count, dtype: int64\n",
            "\n",
            "========================================\n",
            "\n",
            "Sheet Name: M1 Compounds ESI-\n",
            "Number of Samples: 81\n",
            "Number of Metabolites: 939\n",
            "Summary of 'classes' column:\n",
            "class\n",
            "1    54\n",
            "0    27\n",
            "Name: count, dtype: int64\n",
            "\n",
            "========================================\n",
            "\n",
            "Sheet Name: M1 Compounds ESI+ and ESI-\n",
            "Number of Samples: 81\n",
            "Number of Metabolites: 2861\n",
            "Summary of 'classes' column:\n",
            "class\n",
            "1    54\n",
            "0    27\n",
            "Name: count, dtype: int64\n",
            "\n",
            "========================================\n",
            "\n",
            "The metabolomics data set has been downloaded from the Github repository to the address: /content/metabol_data.xlsx\n"
          ]
        }
      ],
      "source": [
        "# datasets information\n",
        "import pandas as pd\n",
        "import requests\n",
        "from io import BytesIO\n",
        "import os\n",
        "\n",
        "# download the data sets from Github\n",
        "url = \"https://github.com/sajadamouei/classification-metabolomics/blob/febca0b56691c042aa438a2cd6cd3bba12b1d41b/data/metabol_data.xlsx?raw=true\"\n",
        "\n",
        "# send a request to the URL\n",
        "response = requests.get(url)\n",
        "\n",
        "# check if the request was successful\n",
        "if response.status_code == 200:\n",
        "\n",
        "    excel_file = pd.ExcelFile(BytesIO(response.content))\n",
        "\n",
        "    # write the content\n",
        "    file_name = \"metabol_data.xlsx\"\n",
        "    with open(file_name, \"wb\") as file:\n",
        "        file.write(response.content)\n",
        "\n",
        "    # get the path of the dataset\n",
        "    file_path = os.path.abspath(file_name)\n",
        "\n",
        "    # iterate through each sheet\n",
        "    for sheet_name in excel_file.sheet_names:\n",
        "\n",
        "        df = pd.read_excel(excel_file, sheet_name=sheet_name)\n",
        "\n",
        "        # print sheet name\n",
        "        print(f\"Sheet Name: {sheet_name}\")\n",
        "\n",
        "        # print the number of samples\n",
        "        num_samples = df.shape[0]\n",
        "        print(f\"Number of Samples: {num_samples}\")\n",
        "\n",
        "        # print the number of metabolites\n",
        "        num_metabolites = df.shape[1] - 2\n",
        "        print(f\"Number of Metabolites: {num_metabolites}\")\n",
        "\n",
        "        # print a summary of the 'class' column\n",
        "        print(\"Summary of 'classes' column:\")\n",
        "        print(df['class'].value_counts())\n",
        "\n",
        "        print(\"\\n\" + \"=\"*40 + \"\\n\")\n",
        "\n",
        "    # print the dataset's address\n",
        "    print(\"The metabolomics data set has been downloaded from the Github repository to the address:\", file_path)\n",
        "\n",
        "else:\n",
        "    print(\"Failed to download the file. Status code:\", response.status_code)\n"
      ]
    },
    {
      "cell_type": "code",
      "source": [
        "import pandas as pd\n",
        "import seaborn as sns\n",
        "import matplotlib.pyplot as plt\n",
        "\n",
        "# Lload data set\n",
        "file_path = '/content/metabol_data.xlsx'\n",
        "xls = pd.ExcelFile(file_path)\n",
        "df = pd.read_excel(xls, sheet_name=2).drop(columns=['nu', 'class'])\n",
        "\n",
        "df = df.loc[:, ~df.T.duplicated()]\n",
        "\n",
        "# Calculate the correlation matrix\n",
        "corr_matrix = df.corr()\n",
        "\n",
        "# Extract the correlation values, excluding the diagonal (self-correlation)\n",
        "corr_values = corr_matrix.values.flatten()\n",
        "corr_values = corr_values[corr_values != 1]\n",
        "\n",
        "# Calculate statistics\n",
        "mean_corr = corr_values.mean()\n",
        "median_corr = pd.Series(corr_values).median()\n",
        "max_corr = corr_values.max()\n",
        "min_corr = corr_values.min()\n",
        "std_corr = corr_values.std()\n",
        "\n",
        "# Print summary statistics\n",
        "print(f\"Correlation Statistics:\\n\"\n",
        "      f\"Mean: {mean_corr:.4f}\\n\"\n",
        "      f\"Median: {median_corr:.4f}\\n\"\n",
        "      f\"Standard Deviation: {std_corr:.4f}\\n\"\n",
        "      f\"Minimum: {min_corr:.4f}\\n\"\n",
        "      f\"Maximum: {max_corr:.4f}\\n\")"
      ],
      "metadata": {
        "colab": {
          "base_uri": "https://localhost:8080/"
        },
        "id": "MhrmaSsU4JYi",
        "outputId": "78ec388f-ab67-46fe-b0d1-cd5002c4c183"
      },
      "execution_count": null,
      "outputs": [
        {
          "output_type": "stream",
          "name": "stdout",
          "text": [
            "Correlation Statistics:\n",
            "Mean: 0.0937\n",
            "Median: 0.0758\n",
            "Standard Deviation: 0.2214\n",
            "Minimum: -0.8700\n",
            "Maximum: 1.0000\n",
            "\n"
          ]
        }
      ]
    }
  ]
}