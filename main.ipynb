{
 "cells": [
  {
   "cell_type": "code",
   "execution_count": null,
   "metadata": {},
   "outputs": [],
   "source": [
    "#!pip install tqdm > /dev/null 2>&1\n",
    "#!pip install ipywidgets > /dev/null 2>&1\n",
    "#!gdown -V > /dev/null 2>&1\n",
    "#!gdown --folder url -O /content/data > /dev/null 2>&1\n",
    "\n",
    "# Import necessary libraries and functions\n",
    "import os\n",
    "import shutil\n",
    "import warnings\n",
    "from time import time\n",
    "import zipfile\n",
    "\n",
    "import numpy as np\n",
    "import pandas as pd\n",
    "import seaborn as sns\n",
    "import matplotlib.pyplot as plt\n",
    "import plotly.graph_objs as go\n",
    "from plotly.subplots import make_subplots\n",
    "from tqdm.notebook import tqdm\n",
    "from scipy.stats import norm\n",
    "\n",
    "from sklearn.model_selection import (StratifiedKFold, cross_val_score, GridSearchCV,\n",
    "                                     train_test_split)\n",
    "from sklearn.metrics import (balanced_accuracy_score, classification_report,\n",
    "                             matthews_corrcoef, confusion_matrix, mean_squared_error,\n",
    "                             roc_curve, auc, roc_auc_score, accuracy_score,\n",
    "                             f1_score, precision_score)\n",
    "from sklearn.ensemble import RandomForestClassifier\n",
    "from sklearn.svm import SVC\n",
    "from sklearn.neural_network import MLPClassifier\n",
    "from sklearn.linear_model import SGDClassifier, LogisticRegression\n",
    "import xgboost as xgb\n",
    "from sklearn.neighbors import KNeighborsClassifier\n",
    "\n",
    "from mlxtend.plotting import plot_decision_regions\n",
    "\n",
    "\n",
    "# Copy Datasets\n",
    "source_file_path = '/content/drive/MyDrive/PhD/1-DEDProject/8-ifocus-dataset/find biomarker in the metabolomics dataset/classification/datasets/data.zip'\n",
    "destination_file_path = '/content/data.zip'\n",
    "shutil.copy(source_file_path, destination_file_path)\n",
    "\n",
    "# Uzip the zipped dataset file\n",
    "zip_file_path = '/content/data.zip'\n",
    "extract_to_path = '/content/data/'\n",
    "\n",
    "with zipfile.ZipFile(zip_file_path, 'r') as zip_ref:\n",
    "    zip_ref.extractall(extract_to_path)"
   ]
  }
 ],
 "metadata": {
  "language_info": {
   "name": "python"
  }
 },
 "nbformat": 4,
 "nbformat_minor": 2
}
